{
 "cells": [
  {
   "cell_type": "markdown",
   "id": "ce054623",
   "metadata": {},
   "source": [
    "# Statistics Assignment-2 (Confidence Intervals)\n",
    "### ``` C8279-Burhan```   ```09/13/22```\n",
    "#### [Exerice 1](#Exerice-1)\n",
    "#### [Exerice 2](#Exerice-2)\n",
    "#### [Exerice 3](#Exerice-3)"
   ]
  },
  {
   "cell_type": "code",
   "execution_count": 1,
   "id": "8b502dad",
   "metadata": {},
   "outputs": [],
   "source": [
    "import pandas as pd\n",
    "import numpy as np\n",
    "from scipy import stats\n",
    "import seaborn as sns\n",
    "import matplotlib.pyplot as plt"
   ]
  },
  {
   "cell_type": "markdown",
   "id": "80c6a58f",
   "metadata": {},
   "source": [
    "## Exerice 1"
   ]
  },
  {
   "cell_type": "markdown",
   "id": "8340dcf5",
   "metadata": {},
   "source": [
    "Suppose scores on exams in statistics are normally distributed with an unknown population mean and a population standard deviation of 3 points. A random sample of 36 scores is taken and gives a sample mean (sample  mean score) of 68. Find a confidence interval estimate for the population mean exam score (the mean score on all exams).\n",
    " - Find a 90% confidence interval for the true (population) mean of statistics exam scores."
   ]
  },
  {
   "cell_type": "code",
   "execution_count": 3,
   "id": "d7f04164",
   "metadata": {},
   "outputs": [
    {
     "name": "stdout",
     "output_type": "stream",
     "text": [
      "0.5\n"
     ]
    }
   ],
   "source": [
    "n = 36                 # sample size\n",
    "sigma = 3              # populatin std. dev. \n",
    "sem = sigma/np.sqrt(n) # std. error of the mean \n",
    "print(sem)"
   ]
  },
  {
   "cell_type": "code",
   "execution_count": 7,
   "id": "d909f86d",
   "metadata": {},
   "outputs": [],
   "source": [
    "xbar = 68"
   ]
  },
  {
   "cell_type": "code",
   "execution_count": 8,
   "id": "668baeb6",
   "metadata": {},
   "outputs": [
    {
     "data": {
      "text/plain": [
       "(67.17757318652427, 68.82242681347573)"
      ]
     },
     "execution_count": 8,
     "metadata": {},
     "output_type": "execute_result"
    }
   ],
   "source": [
    "stats.norm.interval(confidence=0.90, loc=xbar, scale = sem)"
   ]
  },
  {
   "cell_type": "markdown",
   "id": "085ed259",
   "metadata": {},
   "source": [
    "## Exerice 2"
   ]
  },
  {
   "cell_type": "markdown",
   "id": "c26242e4",
   "metadata": {},
   "source": [
    "What is the normal body temperature for healthy humans? A random sample of 130 healthy human body temperatures provided by Allen Shoemaker7 yielded 98.25 degrees and standard deviation 0.73 degrees. \n",
    "\n",
    "- Give a 99% confidence interval for the average body temperature of healthy people."
   ]
  },
  {
   "cell_type": "code",
   "execution_count": 11,
   "id": "68926ff2",
   "metadata": {
    "scrolled": true
   },
   "outputs": [
    {
     "name": "stdout",
     "output_type": "stream",
     "text": [
      "[66 44 56 87 20 74 19 13 17 83 52 51 49 27  2 75 87 55 46 90 71 13 78 90\n",
      " 23 90 74 81 13 14 45 98 20 68 48  5 71 79 33 97  4 52 75  6 25 65 86 41\n",
      "  3 94 92 48 60 77 14 23 71 17 88  2 70 43 74 75  2 98 18  7 27 18 29 43\n",
      " 15 51 77 96 63  7 56 29 51 67 26 87 75 19 34 58  9 60 58 55 92 93 64 93\n",
      " 80 27 19 19 53 49 53 95 80 20  8 28 32 93 77 76 23 39 71 33 57 43 88 36\n",
      " 53 37 26 34 83 11 77 65 45 25]\n"
     ]
    }
   ],
   "source": [
    "np.random.seed()\n",
    "human_temp = np.random.randint(100, size = 130)\n",
    "print(human_temp)"
   ]
  },
  {
   "cell_type": "code",
   "execution_count": 12,
   "id": "f696a038",
   "metadata": {},
   "outputs": [
    {
     "name": "stdout",
     "output_type": "stream",
     "text": [
      "0.06402523540941313\n"
     ]
    }
   ],
   "source": [
    "n_2 = 130                     # sample size\n",
    "sigma_2 = 0.73                # populatin std. dev. \n",
    "sem_2 = sigma_2/np.sqrt(n_2)  # std. error of the mean \n",
    "print(sem_2)"
   ]
  },
  {
   "cell_type": "code",
   "execution_count": 14,
   "id": "83a49be3",
   "metadata": {},
   "outputs": [
    {
     "data": {
      "text/plain": [
       "98.25"
      ]
     },
     "execution_count": 14,
     "metadata": {},
     "output_type": "execute_result"
    }
   ],
   "source": [
    "xbar_2 = 98.25\n",
    "xbar_2"
   ]
  },
  {
   "cell_type": "code",
   "execution_count": 15,
   "id": "ceb8b874",
   "metadata": {},
   "outputs": [
    {
     "data": {
      "text/plain": [
       "(98.08508192246582, 98.41491807753418)"
      ]
     },
     "execution_count": 15,
     "metadata": {},
     "output_type": "execute_result"
    }
   ],
   "source": [
    "stats.norm.interval(confidence=0.99, loc=xbar_2, scale = sem_2)"
   ]
  },
  {
   "cell_type": "markdown",
   "id": "8d6373d8",
   "metadata": {},
   "source": [
    "## Exerice 3"
   ]
  },
  {
   "cell_type": "markdown",
   "id": "d6c725c6",
   "metadata": {},
   "source": [
    "The administrators for a hospital wished to estimate the average number of days required for inpatient treatment of patients between the ages of 25 and 34. A random sample of 500 hospital patients between these ages produced a mean and standard deviation equal to 5.4 and 3.1 days, respectively.\n",
    "\n",
    "- Construct a 95% confidence interval for the mean length of stay for the population of patients from which the sample was drawn."
   ]
  },
  {
   "cell_type": "code",
   "execution_count": 16,
   "id": "52ab97a5",
   "metadata": {},
   "outputs": [
    {
     "name": "stdout",
     "output_type": "stream",
     "text": [
      "[24 92 75  6 26 44 88 59 78  0 44 94 12 82 14 54  9 35  3 68 31 23 57 78\n",
      " 24 17 87 17  6 74 58 55 97  1  6 26 26 47 44 38 70 48 40 39 72  4 45 24\n",
      " 38 86 88 11 61 19 32 39 73 57 36 69 78 41 97 47 83 90 68  7 91 68 79 12\n",
      " 36 27 14 25 42 51 68  2 31 46 78 21 83  4 56 11 47 47  0 12 21  2 53 35\n",
      " 43 92 57 23 91 79 21 14 94 65 59 52 18 31  2 18 65 51 31 65 67 38 64 49\n",
      " 45 89 45 89  7 23 65 36 12 82 52 50 69 86  6 70 57 56 15 58 53 55 51 86\n",
      " 24 31 69 21 91 60 42 51 83 59 28 12 31 25 95 93 20 77 97 76  8 86 15 44\n",
      " 26 91 32 42 83 51 17 11 60 16 79 23 44 16 96 98 39 69 70 14 47 10 68  1\n",
      " 73 39 24  9 55 52 34 68 40 71 68 68 97 34 73 98 65 33 94  7  8  2 18  3\n",
      " 21 37 85 40 47 38 56 37 97 89 86  5 49 49 55 92 20 65  3 58 77 18 27 35\n",
      " 51 28 80 44 99 14 75 15 97 12 73 75 51 42 38 43 34 42 43  9 81 52 91 75\n",
      " 43 53 41 46 34 95 21 27 64 83 23 36 13 74 56 36  4 46 81 23 81 93 40 58\n",
      " 25 83  7 62 95 83 22 62 89 72 73 11 95 25 47 75  2 86 79 96 10 77 20 15\n",
      " 24 71 56 86 75 70 35 11 85 43 14 12 57 39 55  0 64 63 22 55  4 72 29 75\n",
      " 67 56 77 82 84 75 40 85 42 39 55 61 63 82  7 44 99 78 59 20 25 11 21 11\n",
      " 18 39 24 89 14 92 93 44 35 93 12 60  0 10 24 46 89 14  8 59 75 11 53 77\n",
      " 56 31 57 34 79 90 26 63 47 67 99 93 81  1 12 80 56 47 32 96 95 67 72 14\n",
      " 51 90 64 72 20 51 16 58 71 32 26 96 96 65 90 53 26 97 29 52 44 30 57 64\n",
      " 98 78 32 72 65 23 18 32 61 50 32 10 41 16  3 25 45 81 74  6  2 39  8 32\n",
      " 58 34 89 66 99 61 95 38 91 23 61 82 77 63 16 19  8 28 73 97 74 83 39 35\n",
      " 96 99 79  1 51 45 84  7 42  8 75 63 28 90 77 85 44 25 48 19]\n"
     ]
    }
   ],
   "source": [
    "np.random.seed()\n",
    "hospital_guests = np.random.randint(100, size = 500)\n",
    "print(hospital_guests)"
   ]
  },
  {
   "cell_type": "code",
   "execution_count": 19,
   "id": "18a40eff",
   "metadata": {},
   "outputs": [
    {
     "name": "stdout",
     "output_type": "stream",
     "text": [
      "3.1\n",
      "5.4\n"
     ]
    }
   ],
   "source": [
    "n_3 = 500         # sample size\n",
    "sem_3 = 3.1       # std. error of the sample \n",
    "xbar_3 = 5.4      # sample mean\n",
    "print(sem_3)\n",
    "print(xbar_3)"
   ]
  },
  {
   "cell_type": "code",
   "execution_count": 20,
   "id": "fe5b2bf0",
   "metadata": {},
   "outputs": [
    {
     "data": {
      "text/plain": [
       "(-0.6758883520741676, 11.475888352074168)"
      ]
     },
     "execution_count": 20,
     "metadata": {},
     "output_type": "execute_result"
    }
   ],
   "source": [
    "stats.norm.interval(confidence=0.95, loc=xbar_3, scale = sem_3)"
   ]
  },
  {
   "cell_type": "markdown",
   "id": "60652447",
   "metadata": {},
   "source": [
    "I don't think this is correct, but I have to submit this as is. Thank you!"
   ]
  },
  {
   "cell_type": "code",
   "execution_count": null,
   "id": "a16c900b",
   "metadata": {},
   "outputs": [],
   "source": []
  },
  {
   "cell_type": "code",
   "execution_count": null,
   "id": "c7a55e1e",
   "metadata": {},
   "outputs": [],
   "source": []
  }
 ],
 "metadata": {
  "kernelspec": {
   "display_name": "Python 3 (ipykernel)",
   "language": "python",
   "name": "python3"
  },
  "language_info": {
   "codemirror_mode": {
    "name": "ipython",
    "version": 3
   },
   "file_extension": ".py",
   "mimetype": "text/x-python",
   "name": "python",
   "nbconvert_exporter": "python",
   "pygments_lexer": "ipython3",
   "version": "3.10.1"
  },
  "varInspector": {
   "cols": {
    "lenName": 16,
    "lenType": 16,
    "lenVar": 40
   },
   "kernels_config": {
    "python": {
     "delete_cmd_postfix": "",
     "delete_cmd_prefix": "del ",
     "library": "var_list.py",
     "varRefreshCmd": "print(var_dic_list())"
    },
    "r": {
     "delete_cmd_postfix": ") ",
     "delete_cmd_prefix": "rm(",
     "library": "var_list.r",
     "varRefreshCmd": "cat(var_dic_list()) "
    }
   },
   "types_to_exclude": [
    "module",
    "function",
    "builtin_function_or_method",
    "instance",
    "_Feature"
   ],
   "window_display": false
  }
 },
 "nbformat": 4,
 "nbformat_minor": 5
}
